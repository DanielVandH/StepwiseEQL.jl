{
 "cells": [
  {
   "cell_type": "markdown",
   "source": [
    "# Parameter Sensitivity Study"
   ],
   "metadata": {}
  },
  {
   "cell_type": "markdown",
   "source": [
    "In this section, we show how we performed our parameter sensitivity study\n",
    "given in the supplementary material of the paper. For this study,\n",
    "we use the problem for [Case Study 3 in the case that the continuum limit\n",
    "is inaccurate](../../case_studies/cs3b.html). We set up this problem\n",
    "below."
   ],
   "metadata": {}
  },
  {
   "outputs": [],
   "cell_type": "code",
   "source": [
    "using StepwiseEQL\n",
    "using CairoMakie\n",
    "using EpithelialDynamics1D\n",
    "using OrdinaryDiffEq\n",
    "using Random\n",
    "final_time = 75.0\n",
    "domain_length = 30.0\n",
    "midpoint = domain_length / 2\n",
    "initial_condition = [LinRange(0, 5, 30); LinRange(25, 30, 30)] |> unique!\n",
    "damping_constant = 1.0\n",
    "resting_spring_length = 0.2\n",
    "spring_constant = 1 / 5\n",
    "k = spring_constant\n",
    "force_law_parameters = (s=resting_spring_length, k=spring_constant)\n",
    "force_law = (δ, p) -> p.k * (p.s - δ)\n",
    "Δt = 1e-2\n",
    "K = 15.0\n",
    "β = 0.15\n",
    "G = (δ, p) -> p.β * (one(δ) - inv(p.K * δ))\n",
    "Gp = (β=β, K=K)\n",
    "prob = CellProblem(;\n",
    "    final_time,\n",
    "    initial_condition,\n",
    "    damping_constant,\n",
    "    force_law,\n",
    "    force_law_parameters,\n",
    "    proliferation_law=G,\n",
    "    proliferation_period=Δt,\n",
    "    proliferation_law_parameters=Gp)\n",
    "ens_prob = EnsembleProblem(prob);"
   ],
   "metadata": {},
   "execution_count": 1
  },
  {
   "cell_type": "markdown",
   "source": [
    "The following function will be used for solving `ens_prob`, allowing us\n",
    "to modify `saveat` and the number of trajectories."
   ],
   "metadata": {}
  },
  {
   "outputs": [
    {
     "output_type": "execute_result",
     "data": {
      "text/plain": "solve_problem (generic function with 1 method)"
     },
     "metadata": {},
     "execution_count": 2
    }
   ],
   "cell_type": "code",
   "source": [
    "function solve_problem(; saveat =0.1, trajectories=1000)\n",
    "    # Please also note that this `solve` will use multithreading,\n",
    "    # so this function is not deterministic. This should not matter\n",
    "    # overall for the purpose of this study, but it may change the\n",
    "    # numbers ever so slightly from what we report in the paper.\n",
    "    return solve(ens_prob, Tsit5(); saveat, trajectories)\n",
    "end"
   ],
   "metadata": {},
   "execution_count": 2
  },
  {
   "cell_type": "markdown",
   "source": [
    "---\n",
    "\n",
    "*This notebook was generated using [Literate.jl](https://github.com/fredrikekre/Literate.jl).*"
   ],
   "metadata": {}
  }
 ],
 "nbformat_minor": 3,
 "metadata": {
  "language_info": {
   "file_extension": ".jl",
   "mimetype": "application/julia",
   "name": "julia",
   "version": "1.9.2"
  },
  "kernelspec": {
   "name": "julia-1.9",
   "display_name": "Julia 1.9.2",
   "language": "julia"
  }
 },
 "nbformat": 4
}
